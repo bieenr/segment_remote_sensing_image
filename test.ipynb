{
 "cells": [
  {
   "cell_type": "code",
   "execution_count": null,
   "metadata": {},
   "outputs": [],
   "source": [
    "import glob\n",
    "import cv2\n",
    "import numpy as np\n",
    "import os\n",
    "from tqdm import tqdm\n",
    "IMAGE_FOLDER = \"/mnt/data/RasterMask_v11/TrueOrtho/*\"\n",
    "# IMAGE_FOLDER = \"/mnt/data/RasterMask_v11/Raster_WaterMask/*\"\n",
    "a = glob.glob(IMAGE_FOLDER)\n",
    "\n",
    "\n",
    "print(a[0])"
   ]
  },
  {
   "cell_type": "code",
   "execution_count": 4,
   "metadata": {},
   "outputs": [
    {
     "name": "stdout",
     "output_type": "stream",
     "text": [
      "(12800, 12800)\n"
     ]
    }
   ],
   "source": [
    "from PIL import Image\n",
    "img = cv2.imread(a[1],0)\n",
    "print(img.shape)\n",
    "# print('IMAGE classes', np.unique(img))\n",
    "Image.fromarray(img)"
   ]
  }
 ],
 "metadata": {
  "kernelspec": {
   "display_name": "Python 3 (ipykernel)",
   "language": "python",
   "name": "python3"
  },
  "orig_nbformat": 4
 },
 "nbformat": 4,
 "nbformat_minor": 2
}
